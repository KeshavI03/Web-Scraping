{
 "cells": [
  {
   "cell_type": "code",
   "execution_count": 1,
   "metadata": {},
   "outputs": [],
   "source": [
    "import urllib3\n",
    "import certifi\n",
    "from bs4 import BeautifulSoup\n",
    "from textblob import TextBlob"
   ]
  },
  {
   "cell_type": "code",
   "execution_count": 7,
   "metadata": {},
   "outputs": [],
   "source": [
    "http = urllib3.PoolManager(\n",
    "    cert_reqs='CERT_REQUIRED',\n",
    "    ca_certs=certifi.where())\n",
    "\n",
    "\n",
    "num_pages = 5\n",
    "\n",
    "search_param = 'tesla%20stock'\n",
    "\n",
    "search = 'https://www.google.com/search?q=' + search_param +'&tbm=nws&start='"
   ]
  },
  {
   "cell_type": "code",
   "execution_count": 8,
   "metadata": {},
   "outputs": [],
   "source": [
    "news_titles = []\n",
    "news_info = []\n",
    "\n",
    "for i in range(num_pages):\n",
    "    r = http.request('GET', search + str(i*10))\n",
    "    soup = BeautifulSoup(r.data, 'html.parser')\n",
    "    news_titles.append(soup.find_all(\"div\", {\"class\": \"BNeawe vvjwJb AP7Wnd\"}))\n",
    "    news_info.append(soup.find_all(\"div\", {\"class\": \"BNeawe s3v9rd AP7Wnd\"}))"
   ]
  },
  {
   "cell_type": "code",
   "execution_count": 9,
   "metadata": {},
   "outputs": [],
   "source": [
    "for i in range(num_pages):\n",
    "    for j in range(len(news_titles[i])):\n",
    "        news_titles[i][j] = str(news_titles[i][j])[34:len(news_titles[i][j])-7]\n",
    "        \n",
    "    for k in range(len(news_info[i])):\n",
    "        if k%2 == 0:\n",
    "            news_info[i][k] = \"\"\n",
    "        else:\n",
    "            news_info[i][k] = str(news_info[i][k])[117:len(news_info[i][k])-9]\n",
    "    \n",
    "    while('' in news_info[i]) : \n",
    "        news_info[i].remove('')"
   ]
  },
  {
   "cell_type": "code",
   "execution_count": 10,
   "metadata": {},
   "outputs": [
    {
     "name": "stderr",
     "output_type": "stream",
     "text": [
      "[nltk_data] Downloading package averaged_perceptron_tagger to\n",
      "[nltk_data]     C:\\Users\\deark\\AppData\\Roaming\\nltk_data...\n",
      "[nltk_data]   Package averaged_perceptron_tagger is already up-to-\n",
      "[nltk_data]       date!\n",
      "[nltk_data] Downloading package brown to\n",
      "[nltk_data]     C:\\Users\\deark\\AppData\\Roaming\\nltk_data...\n",
      "[nltk_data]   Package brown is already up-to-date!\n"
     ]
    },
    {
     "data": {
      "text/plain": [
       "True"
      ]
     },
     "execution_count": 10,
     "metadata": {},
     "output_type": "execute_result"
    }
   ],
   "source": [
    "import nltk\n",
    "nltk.download('averaged_perceptron_tagger')\n",
    "nltk.download('brown')"
   ]
  },
  {
   "cell_type": "code",
   "execution_count": 11,
   "metadata": {
    "scrolled": false
   },
   "outputs": [
    {
     "name": "stdout",
     "output_type": "stream",
     "text": [
      "6.638193542568542\n"
     ]
    }
   ],
   "source": [
    "total_sentiment = 0;\n",
    "\n",
    "\n",
    "for i in range(len(news_titles)):\n",
    "    for j in range(len(news_titles[i])):\n",
    "        blob = TextBlob(news_titles[i][j])\n",
    "        for sentence in blob.sentences:\n",
    "            total_sentiment += sentence.sentiment.polarity\n",
    "            \n",
    "\n",
    "for i in range(len(news_info)):\n",
    "    for j in range(len(news_info[i])):\n",
    "        blob = TextBlob(news_info[i][j])\n",
    "        for sentence in blob.sentences:\n",
    "            total_sentiment += sentence.sentiment.polarity\n",
    "        \n",
    "print(total_sentiment)"
   ]
  },
  {
   "cell_type": "code",
   "execution_count": null,
   "metadata": {},
   "outputs": [],
   "source": []
  }
 ],
 "metadata": {
  "kernelspec": {
   "display_name": "Python 3",
   "language": "python",
   "name": "python3"
  },
  "language_info": {
   "codemirror_mode": {
    "name": "ipython",
    "version": 3
   },
   "file_extension": ".py",
   "mimetype": "text/x-python",
   "name": "python",
   "nbconvert_exporter": "python",
   "pygments_lexer": "ipython3",
   "version": "3.7.4"
  }
 },
 "nbformat": 4,
 "nbformat_minor": 2
}
