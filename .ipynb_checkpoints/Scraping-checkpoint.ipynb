{
 "cells": [
  {
   "cell_type": "code",
   "execution_count": 1,
   "metadata": {},
   "outputs": [],
   "source": [
    "import urllib3\n",
    "import certifi\n",
    "from bs4 import BeautifulSoup\n",
    "from textblob import TextBlob"
   ]
  },
  {
   "cell_type": "code",
   "execution_count": 2,
   "metadata": {},
   "outputs": [],
   "source": [
    "import urllib3\n",
    "http = urllib3.PoolManager(\n",
    "    cert_reqs='CERT_REQUIRED',\n",
    "    ca_certs=certifi.where())\n",
    "\n",
    "stock_name = 'TSLA'\n",
    "\n",
    "r = http.request('GET', 'https://stocktwits.com/symbol/' + stock_name)\n",
    "r2 = http.request('Get', 'https://twitter.com/search?q=%24' + stock_name + '%23stocks')"
   ]
  },
  {
   "cell_type": "code",
   "execution_count": 3,
   "metadata": {},
   "outputs": [],
   "source": [
    "#print(r.data.decode('utf-8'))"
   ]
  },
  {
   "cell_type": "code",
   "execution_count": 4,
   "metadata": {},
   "outputs": [],
   "source": [
    "soup = BeautifulSoup(r.data, 'html.parser')"
   ]
  },
  {
   "cell_type": "code",
   "execution_count": 5,
   "metadata": {},
   "outputs": [],
   "source": [
    "comment_string = soup.find_all(\"div\", {\"class\": \"st_VwV73eM st_DmhifDD\"})"
   ]
  },
  {
   "cell_type": "code",
   "execution_count": 6,
   "metadata": {},
   "outputs": [],
   "source": [
    "print_string = soup.find_all(\"span\", {\"class\": \"st_3lrv4Jo st_8u0ePN3 st_2oUi2Vb st_31YdEUQ st_8u0ePN3 st_2mehCkH st_3kXJm4P\"})"
   ]
  },
  {
   "cell_type": "code",
   "execution_count": 7,
   "metadata": {},
   "outputs": [
    {
     "name": "stdout",
     "output_type": "stream",
     "text": [
      "769.00\n"
     ]
    }
   ],
   "source": [
    "numArrows = 0\n",
    "pricePos = 0;\n",
    "for i in range (0,len(str(print_string[0]))):\n",
    "    if str(print_string[0])[i] == '>':\n",
    "        numArrows+=1\n",
    "    if numArrows > 2:\n",
    "        pricePos = i\n",
    "        break\n",
    "        \n",
    "        \n",
    "for i in range(pricePos,len(str(print_string[0]))):\n",
    "    if str(print_string[0])[i] == '<':\n",
    "        pos = i\n",
    "        break\n",
    "\n",
    "print(str(print_string[0])[pricePos+1:pos])"
   ]
  },
  {
   "cell_type": "code",
   "execution_count": 8,
   "metadata": {},
   "outputs": [
    {
     "name": "stdout",
     "output_type": "stream",
     "text": [
      "1.08\n"
     ]
    }
   ],
   "source": [
    "sentPos = soup.get_text().find(\"sentimentChange\")+17\n",
    "for i in range(sentPos, sentPos+7):\n",
    "    if str(soup.get_text()[i]) == ',':\n",
    "        sentNumPos = i\n",
    "        break\n",
    "        \n",
    "print(str(soup.get_text()[sentPos:i]))"
   ]
  },
  {
   "cell_type": "code",
   "execution_count": 9,
   "metadata": {},
   "outputs": [],
   "source": [
    "soup = BeautifulSoup(r2.data, 'html.parser')"
   ]
  },
  {
   "cell_type": "code",
   "execution_count": 10,
   "metadata": {},
   "outputs": [],
   "source": [
    "tweet_text = soup.get_text()"
   ]
  },
  {
   "cell_type": "code",
   "execution_count": 11,
   "metadata": {},
   "outputs": [],
   "source": [
    "tweets = []\n",
    "\n",
    "parsePos = 0\n",
    "endParsePos = 0;\n",
    "\n",
    "for i in range(0, len(tweet_text)-32):\n",
    "    if tweet_text[i:i+32] == 'Copy link to Tweet\\n\\n\\nEmbed Tweet':\n",
    "        parsePos = i+32;\n",
    "        for j in range(i+32, len(tweet_text)-5):\n",
    "            if tweet_text[j:j+5] == 'Reply':\n",
    "                endParsePos = j\n",
    "                tweets.append(tweet_text[parsePos:endParsePos])\n",
    "                i = j\n",
    "                break\n",
    "del tweets[-1]"
   ]
  },
  {
   "cell_type": "code",
   "execution_count": 12,
   "metadata": {},
   "outputs": [],
   "source": [
    "for i in range(0,len(tweets)):\n",
    "    tweets[i] = tweets[i].translate({ord('\\n'): None})\n",
    "    tweets[i] = tweets[i][0:len(tweets[i])-24]"
   ]
  },
  {
   "cell_type": "code",
   "execution_count": 13,
   "metadata": {},
   "outputs": [
    {
     "name": "stderr",
     "output_type": "stream",
     "text": [
      "[nltk_data] Downloading package averaged_perceptron_tagger to\n",
      "[nltk_data]     C:\\Users\\deark\\AppData\\Roaming\\nltk_data...\n",
      "[nltk_data]   Package averaged_perceptron_tagger is already up-to-\n",
      "[nltk_data]       date!\n",
      "[nltk_data] Downloading package brown to\n",
      "[nltk_data]     C:\\Users\\deark\\AppData\\Roaming\\nltk_data...\n",
      "[nltk_data]   Package brown is already up-to-date!\n"
     ]
    },
    {
     "data": {
      "text/plain": [
       "True"
      ]
     },
     "execution_count": 13,
     "metadata": {},
     "output_type": "execute_result"
    }
   ],
   "source": [
    "import nltk\n",
    "nltk.download('averaged_perceptron_tagger')\n",
    "nltk.download('brown')"
   ]
  },
  {
   "cell_type": "code",
   "execution_count": 19,
   "metadata": {},
   "outputs": [
    {
     "name": "stdout",
     "output_type": "stream",
     "text": [
      "$VIVE Top watch tomorrow 300k float, company said news out soon and Institutions just bought 90%!!\n",
      "0.78125\n",
      "\n",
      "Coronavirus stocks $APT $INO $TNXP $BTC $IBIO $SLS $TRIL $SPOM $CODX $AIM $ALT $CPHI $TTNP $GHSI $AIM $AMD $SPCE $TSLA $SPY $APT $RTTR $GNPX $NOVN $HTBX #stocks pic.twitter.com/oeW4jLVnf00\n",
      "0.6\n",
      "\n",
      "-----------------------------\n",
      " United States Most Active Stocks$AAPL  +8.85%$MSFT  +6.67%$TSLA  +11.46%$AMZN  +3.49%#StockMarket #Stocks $SPX $SPY $BAC $AMD $JPM $FB $NVDA $BABApic.twitter.com/TSsYDNnKFj1\n",
      "0.18333333333333335\n",
      "\n",
      "-----------------------------\n",
      "Lithium: 3 Things Investors Need to Know @themotleyfool #stocks $SQM $ALB $OROCF $LAC $LTHM $TSLA $PCRFYhttps://www.fool.com/investing/2020/02/24/lithium-3-things-investors-need-to-know.aspx …0\n",
      "0.5\n",
      "\n",
      "-----------------------------\n",
      "3 Stocks That Could Double by This Summer @themotleyfool #stocks $BBBY $BILL $DAO $TGT $TSLA $EDU $PYPL $TAL $SPCEhttps://www.fool.com/investing/2020/02/23/3-stocks-that-could-double-by-this-summer.aspx …0\n",
      "0.0\n",
      "\n",
      "-----------------------------\n",
      "Large Cap Movershttps://www.simplertrading.com/daily/options-free/large-cap-movers/ …Today, I’m focusing on $TSLA $ADBE $NFLX and trading them for this oversold rip off of the lows.\n",
      "-0.3857142857142857\n",
      "\n",
      "Let’s talk about targets and parameters.#Trading #Options #OptionsTrading $SPX $ES #StocksToTrade #stocks #MarketWatch #MoneyMonday\n",
      "0.0\n",
      "\n",
      "-----------------------------\n",
      "Lockheed Martin is officially oversold.\n",
      "0.0\n",
      "\n",
      "Well below the RSI of 30 and the MACD is well below it’s mark too.\n",
      "-0.6\n",
      "\n",
      "We are at a huge support area.\n",
      "0.4000000000000001\n",
      "\n",
      "This is now a STRONG BUY recommendation.\n",
      "0.4333333333333333\n",
      "\n",
      "$NOC $RTN $BA $GD $UTX $KTOS $TSLA $AAPL $MSFT $AMZN #stocks #investments #buy ⁦⁦@CNBC⁩pic.twitter.com/RspKzRfRKD0\n",
      "0.0\n",
      "\n",
      "-----------------------------\n",
      "Last Sunday’s poll resulted in 80% of you being BULLISH for the week.\n",
      "0.0\n",
      "\n",
      "We saw how that played out How about this upcoming week - BULL or BEAR ?\n",
      "0.0\n",
      "\n",
      "#stocks #COVID #Investment$TSLA $SPCE $SPY $VIX 0\n",
      "0.0\n",
      "\n",
      "-----------------------------\n",
      "#ShortStrangles on #Stocks – day trading weeklies.\n",
      "0.0\n",
      "\n",
      "For the record (correction): $TSLA stopped and rewritten on 3 of 5 days.\n",
      "0.0\n",
      "\n",
      "Hard work but still netted 6.5%.#OptionsTrading #Optionshttp://thegodoftrading.com/day-trading/sh …0\n",
      "-0.2916666666666667\n",
      "\n",
      "-----------------------------\n",
      "$MMM The Bullish Case for 3M Isn’t Just About Its Face Masks -- my article for @investorplace https://investorplace.com/2020/03/case-mmm-stock-isnt-just-about-face-masks/ … $SPY $QQQ $DJIA $DIA #stockmarket #investing #finance #stocks #gold #silver $SLV $TWTR $GLD $FB $TLT $AMZN $AAPL $TSLA $NFLX $AMD $INTC #economy0\n",
      "0.0\n",
      "\n",
      "-----------------------------\n",
      "3 Embarrassingly Cheap Dividend Stocks @themotleyfool #stocks $F $M $AMC $TSLA $GM $UBERhttps://www.fool.com/investing/2020/02/24/3-embarrassingly-cheap-dividend-stocks.aspx …0\n",
      "0.4\n",
      "\n",
      "-----------------------------\n",
      "#DayTrading #Stocks #Options into Friday expirationTop earners $TSLA $BYND $NFLX $SPY $SPX Solid gains $MRNA $RDFN $IIPR $EA $ATVI $FB $ROKU $SPCE $LYFT $PTON $RCL $CCL $AAL $DAL$study my timeline and media so you can prepare for the bounce attemptspic.twitter.com/IZVoUTDeIJ3\n",
      "0.0\n",
      "\n",
      "-----------------------------\n",
      "The director of the National Economic Council Larry Kudlow told reporters that “people should not overreact” — from investors to everyday Americans.\n",
      "-0.6\n",
      "\n",
      "\"Given what we know factually, it looks to me like the market had gone too far,” Kudlow said.\n",
      "-0.5\n",
      "\n",
      "#stocks $TSLA $MSFT $AAPL $LMT $APHApic.twitter.com/ZlJ8ZDSO6f\n",
      "0.0\n",
      "\n",
      "-----------------------------\n",
      "This is alright and fine with me.\n",
      "0.4166666666666667\n",
      "\n",
      "I'm not worried!\n",
      "0.0\n",
      "\n",
      "!Why Tesla Stock Fell Sharply Thursday @themotleyfool #stocks $TSLA https://www.fool.com/investing/2020/02/27/why-tesla-stock-fell-sharply-thursday.aspx …0\n",
      "-0.725\n",
      "\n",
      "-----------------------------\n",
      "#BreakingNews DOW WOW #Stocks rally just before closing bell #Dow closes up 1,294 points, biggest one day point gain in market history following last week's slide on #coronavirus worries @KNX1070 @MottekOnMoney @Radiodotcom #Economy #trade #China $COST $AAPL $TSLA pic.twitter.com/XYuOnJRcDd0\n",
      "-1.1666666666666665\n",
      "\n",
      "-----------------------------\n",
      "$IGPK officially time to load up.\n",
      "0.0\n",
      "\n",
      "S1 effectiveness date is now approaching.\n",
      "0.0\n",
      "\n",
      "Loading Zone: $0.001 to $0.002 $HDII $ZMRK $MYFT $FONU $FZRO $spy $grnf $kwbt $ggsm $tecr $enrt $stsn $ACB $TSLA $FZRO $S #Sprint $IGPK #china $CLSI #Stocks $spompic.twitter.com/446NNrKipg0\n",
      "0.0\n",
      "\n",
      "-----------------------------\n",
      "Corona Virus panic is causing the boomer markets to dump lol #stocks $TSLA $SPCE $F $GRPNpic.twitter.com/CVa1dUmBeC0\n",
      "0.8\n",
      "\n",
      "-----------------------------\n",
      "Back to $270 by days end.\n",
      "0.0\n",
      "\n",
      "$spy $spx Nobody would be stupid enough to not dump this now after this run up.\n",
      "-0.39999999999999997\n",
      "\n",
      "$spy $spx #stocks $amzn $tsla $dis0\n",
      "0.0\n",
      "\n",
      "-----------------------------\n",
      "Panic-Buying Sends Dow To Best Point-Gain Ever On Hopes Of Intervention https://www.zerohedge.com/markets/stocks-soar-hopes-intervention-bond-yields-crash-record-lows … $SPY $QQQ $DJIA $DIA #stockmarket #investing #finance #stocks #gold #silver $SLV $TWTR $GLD $TLT $FB $AMZN $AAPL $TSLA $NFLX $AMD $INTC #economy0\n",
      "0.4\n",
      "\n",
      "-----------------------------\n",
      "That worked just as planned #Tesla $tsla #stocks #stock #StockMarket #market #marketspic.twitter.com/qvTOIsi4\n",
      "0.0\n",
      "\n",
      "-----------------------------\n"
     ]
    }
   ],
   "source": [
    "polarityShift = 0;\n",
    "negative_keywords = ['bear','loss','losing','low','hit','tumble','fell','fall','hurt','recession','worse']\n",
    "positive_keywords = ['bull','earn','gain','high','great','diversification','well']\n",
    "\n",
    "for tweet in tweets:\n",
    "    blob = TextBlob(tweet)\n",
    "    for sentence in blob.sentences:\n",
    "        polarityShift = 0\n",
    "        \n",
    "        for word in negative_keywords:\n",
    "            if sentence.find(word.lower())!= -1:\n",
    "                polarityShift-=.3\n",
    "                \n",
    "        for word in negative_keywords:\n",
    "            if sentence.find(word)!= -1:\n",
    "                polarityShift-=.3\n",
    "        \n",
    "        print(sentence)\n",
    "        print(sentence.sentiment.polarity + polarityShift)\n",
    "        print()\n",
    "        \n",
    "    print(\"-----------------------------\")"
   ]
  },
  {
   "cell_type": "code",
   "execution_count": null,
   "metadata": {},
   "outputs": [],
   "source": []
  }
 ],
 "metadata": {
  "kernelspec": {
   "display_name": "Python 3",
   "language": "python",
   "name": "python3"
  },
  "language_info": {
   "codemirror_mode": {
    "name": "ipython",
    "version": 3
   },
   "file_extension": ".py",
   "mimetype": "text/x-python",
   "name": "python",
   "nbconvert_exporter": "python",
   "pygments_lexer": "ipython3",
   "version": "3.7.4"
  }
 },
 "nbformat": 4,
 "nbformat_minor": 2
}
