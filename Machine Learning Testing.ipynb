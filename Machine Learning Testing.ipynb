{
 "cells": [
  {
   "cell_type": "code",
   "execution_count": 1,
   "metadata": {},
   "outputs": [],
   "source": [
    "from __future__ import absolute_import, division, print_function, unicode_literals\n",
    "\n",
    "import tensorflow as tf\n",
    "\n",
    "from tensorflow.keras import datasets, layers, models\n",
    "import matplotlib.pyplot as plt\n",
    "import numpy as np"
   ]
  },
  {
   "cell_type": "code",
   "execution_count": 2,
   "metadata": {},
   "outputs": [
    {
     "name": "stderr",
     "output_type": "stream",
     "text": [
      "Using TensorFlow backend.\n"
     ]
    }
   ],
   "source": [
    "import keras"
   ]
  },
  {
   "cell_type": "code",
   "execution_count": 3,
   "metadata": {},
   "outputs": [],
   "source": [
    "import os"
   ]
  },
  {
   "cell_type": "code",
   "execution_count": 4,
   "metadata": {},
   "outputs": [],
   "source": [
    "from pandas import DataFrame"
   ]
  },
  {
   "cell_type": "code",
   "execution_count": 5,
   "metadata": {},
   "outputs": [],
   "source": [
    "import pandas_datareader as web"
   ]
  },
  {
   "cell_type": "code",
   "execution_count": 6,
   "metadata": {},
   "outputs": [],
   "source": [
    "stocks = ['AAPL',\n",
    "'MSFT',\n",
    "'AMZN',\n",
    "'GOOG',\n",
    "'FB',\n",
    "'V',\n",
    "'JNJ',\n",
    "'WMT',\n",
    "'MA',\n",
    "'PG',\n",
    "'UNH',\n",
    "'JPM',\n",
    "'HD',\n",
    "'INTC',\n",
    "'NVDA',\n",
    "'VZ',\n",
    "'TSLA',\n",
    "'T',\n",
    "'ADBE',\n",
    "'NFLX',\n",
    "'PYPL',\n",
    "'DIS',\n",
    "'BAC',\n",
    "'MRK',\n",
    "'KO',\n",
    "'CSCO',\n",
    "'PFE',\n",
    "'XOM',\n",
    "'PEP',\n",
    "'CMCSA',\n",
    "'ABBV',\n",
    "'CRM',\n",
    "'ORCL',\n",
    "'CVX',\n",
    "'ABT',\n",
    "'LLY',\n",
    "'NKE',\n",
    "'AMGN',\n",
    "'TMO',\n",
    "'ACN',\n",
    "'MCD',\n",
    "'COST',\n",
    "'BMY',\n",
    "'DHR',\n",
    "'AVGO',\n",
    "'MDT',\n",
    "'NEE',\n",
    "'AMT',\n",
    "'LIN']"
   ]
  },
  {
   "cell_type": "code",
   "execution_count": 6,
   "metadata": {},
   "outputs": [],
   "source": [
    "# RUN IF YOU ARE DECLARING A NEW MODEL\n",
    "\n",
    "numInp = 50\n",
    "\n",
    "model = models.Sequential()\n",
    "model.add(layers.Dense(100, input_shape=(numInp,), activation='relu'))\n",
    "model.add(layers.Dense(100, activation='relu'))\n",
    "model.add(layers.Dense(50, activation='relu'))\n",
    "model.add(layers.Dense(25, activation='relu'))\n",
    "model.add(layers.Dense(1, activation='relu'))\n",
    "\n",
    "\n",
    "model.compile(optimizer='adam',\n",
    "              loss='mean_squared_error',\n",
    "              metrics=['accuracy'])"
   ]
  },
  {
   "cell_type": "code",
   "execution_count": 7,
   "metadata": {},
   "outputs": [],
   "source": [
    "def train_model(stock_name, numInp, ml):\n",
    "    df = web.DataReader(stock_name, 'yahoo', '2018-7-1', '2020-7-1')['Open']\n",
    "    \n",
    "    df = df.div(df[0])\n",
    "    \n",
    "    data = df.tolist()\n",
    "    \n",
    "    data_input = []\n",
    "    data_output = []\n",
    "\n",
    "    size = len(data)\n",
    "    # size = len(data)\n",
    "\n",
    "    for i in range(numInp, size):\n",
    "        data_input.append(data[i-numInp:i])\n",
    "        data_output.append([data[i]])\n",
    "        \n",
    "    if ml: model.fit(data_input, data_output, epochs=1)\n",
    "    else: return data_input, data"
   ]
  },
  {
   "cell_type": "code",
   "execution_count": 8,
   "metadata": {},
   "outputs": [],
   "source": [
    "def predict(slice_point, days_predicted, data_input, data):\n",
    "    \n",
    "    predictions = []\n",
    "    predictions = model.predict(data_input[0:slice_point])\n",
    "    predictions = predictions.reshape(len(predictions)).tolist()\n",
    "    \n",
    "    for i in range(0, days_predicted):\n",
    "        predictions.append(float(model.predict([predictions[len(predictions)-50:len(predictions)]])[0][0])* (1 + (np.random.normal()/100)))\n",
    "    \n",
    "    DataFrame(predictions, columns=['Data'])['Data'].plot(figsize=(16,6))\n",
    "    DataFrame(data[50:], columns=['Data'])['Data'].plot()"
   ]
  },
  {
   "cell_type": "code",
   "execution_count": 227,
   "metadata": {
    "scrolled": true
   },
   "outputs": [
    {
     "name": "stdout",
     "output_type": "stream",
     "text": [
      "Train on 453 samples\n",
      "453/453 [==============================] - 0s 119us/sample - loss: 8.2743e-04 - accuracy: 0.0000e+00\n",
      "Train on 453 samples\n",
      "453/453 [==============================] - 0s 110us/sample - loss: 5.3485e-04 - accuracy: 0.0000e+00\n",
      "Train on 453 samples\n",
      "453/453 [==============================] - 0s 115us/sample - loss: 0.0014 - accuracy: 0.0000e+00\n",
      "Train on 453 samples\n",
      "453/453 [==============================] - 0s 113us/sample - loss: 4.6389e-04 - accuracy: 0.0000e+00\n",
      "Train on 453 samples\n",
      "453/453 [==============================] - 0s 113us/sample - loss: 7.8416e-04 - accuracy: 0.0000e+00\n",
      "Train on 453 samples\n",
      "453/453 [==============================] - 0s 119us/sample - loss: 4.9023e-04 - accuracy: 0.0000e+00\n",
      "Train on 453 samples\n",
      "453/453 [==============================] - 0s 113us/sample - loss: 2.8310e-04 - accuracy: 0.0000e+00\n",
      "Train on 453 samples\n",
      "453/453 [==============================] - 0s 119us/sample - loss: 2.9306e-04 - accuracy: 0.0000e+00\n",
      "Train on 453 samples\n",
      "453/453 [==============================] - 0s 113us/sample - loss: 7.6847e-04 - accuracy: 0.0000e+00\n",
      "Train on 453 samples\n",
      "453/453 [==============================] - 0s 122us/sample - loss: 2.1254e-04 - accuracy: 0.0000e+00\n",
      "Train on 453 samples\n",
      "453/453 [==============================] - 0s 115us/sample - loss: 5.3338e-04 - accuracy: 0.0000e+00\n",
      "Train on 453 samples\n",
      "453/453 [==============================] - 0s 110us/sample - loss: 3.6391e-04 - accuracy: 0.0000e+00\n",
      "Train on 453 samples\n",
      "453/453 [==============================] - 0s 115us/sample - loss: 3.5849e-04 - accuracy: 0.0000e+00\n",
      "Train on 453 samples\n",
      "453/453 [==============================] - 0s 108us/sample - loss: 7.0122e-04 - accuracy: 0.0000e+00\n",
      "Train on 453 samples\n",
      "453/453 [==============================] - 0s 117us/sample - loss: 0.0015 - accuracy: 0.0000e+00\n",
      "Train on 453 samples\n",
      "453/453 [==============================] - 0s 113us/sample - loss: 2.2441e-04 - accuracy: 0.0000e+00\n",
      "Train on 453 samples\n",
      "453/453 [==============================] - 0s 117us/sample - loss: 0.0018 - accuracy: 0.0000e+00\n",
      "Train on 453 samples\n",
      "453/453 [==============================] - 0s 124us/sample - loss: 2.0073e-04 - accuracy: 0.0000e+00\n",
      "Train on 453 samples\n",
      "453/453 [==============================] - 0s 126us/sample - loss: 0.0011 - accuracy: 0.0000e+00\n",
      "Train on 453 samples\n",
      "453/453 [==============================] - 0s 115us/sample - loss: 0.0039 - accuracy: 0.0000e+00\n",
      "Train on 453 samples\n",
      "453/453 [==============================] - 0s 110us/sample - loss: 8.3933e-04 - accuracy: 0.0000e+00\n",
      "Train on 453 samples\n",
      "453/453 [==============================] - 0s 117us/sample - loss: 4.1813e-04 - accuracy: 0.0000e+00\n",
      "Train on 453 samples\n",
      "453/453 [==============================] - 0s 119us/sample - loss: 4.4390e-04 - accuracy: 0.0022\n",
      "Train on 453 samples\n",
      "453/453 [==============================] - 0s 124us/sample - loss: 4.6947e-04 - accuracy: 0.0000e+00\n",
      "Train on 453 samples\n",
      "453/453 [==============================] - 0s 110us/sample - loss: 2.1817e-04 - accuracy: 0.0044\n",
      "Train on 453 samples\n",
      "453/453 [==============================] - 0s 124us/sample - loss: 6.3377e-04 - accuracy: 0.0000e+00\n",
      "Train on 453 samples\n",
      "453/453 [==============================] - 0s 126us/sample - loss: 3.6185e-04 - accuracy: 0.0044\n",
      "Train on 453 samples\n",
      "453/453 [==============================] - 0s 119us/sample - loss: 2.7294e-04 - accuracy: 0.0000e+00\n",
      "Train on 453 samples\n",
      "453/453 [==============================] - 0s 130us/sample - loss: 1.6715e-04 - accuracy: 0.0000e+00\n",
      "Train on 453 samples\n",
      "453/453 [==============================] - 0s 133us/sample - loss: 2.6281e-04 - accuracy: 0.0000e+00\n",
      "Train on 453 samples\n",
      "453/453 [==============================] - 0s 115us/sample - loss: 5.6558e-04 - accuracy: 0.0022\n",
      "Train on 453 samples\n",
      "453/453 [==============================] - 0s 108us/sample - loss: 0.0012 - accuracy: 0.0000e+00\n",
      "Train on 453 samples\n",
      "453/453 [==============================] - 0s 130us/sample - loss: 5.6752e-04 - accuracy: 0.0044\n",
      "Train on 453 samples\n",
      "453/453 [==============================] - 0s 128us/sample - loss: 2.8438e-04 - accuracy: 0.0000e+00\n",
      "Train on 453 samples\n",
      "453/453 [==============================] - 0s 115us/sample - loss: 4.0925e-04 - accuracy: 0.0000e+00\n",
      "Train on 453 samples\n",
      "453/453 [==============================] - 0s 113us/sample - loss: 4.7933e-04 - accuracy: 0.0000e+00\n",
      "Train on 453 samples\n",
      "453/453 [==============================] - 0s 110us/sample - loss: 5.7719e-04 - accuracy: 0.0000e+00\n",
      "Train on 453 samples\n",
      "453/453 [==============================] - 0s 110us/sample - loss: 4.1017e-04 - accuracy: 0.0000e+00\n",
      "Train on 453 samples\n",
      "453/453 [==============================] - 0s 110us/sample - loss: 6.1975e-04 - accuracy: 0.0000e+00\n",
      "Train on 453 samples\n",
      "453/453 [==============================] - 0s 113us/sample - loss: 3.3608e-04 - accuracy: 0.0022\n",
      "Train on 453 samples\n",
      "453/453 [==============================] - 0s 113us/sample - loss: 1.8155e-04 - accuracy: 0.0000e+00\n",
      "Train on 453 samples\n",
      "453/453 [==============================] - 0s 115us/sample - loss: 3.7695e-04 - accuracy: 0.0000e+00\n",
      "Train on 453 samples\n",
      "453/453 [==============================] - 0s 115us/sample - loss: 3.8804e-04 - accuracy: 0.0000e+00\n",
      "Train on 453 samples\n",
      "453/453 [==============================] - 0s 113us/sample - loss: 4.5637e-04 - accuracy: 0.0000e+00\n",
      "Train on 453 samples\n",
      "453/453 [==============================] - 0s 119us/sample - loss: 7.5253e-04 - accuracy: 0.0000e+00\n",
      "Train on 453 samples\n",
      "453/453 [==============================] - 0s 117us/sample - loss: 2.8106e-04 - accuracy: 0.0000e+00\n",
      "Train on 453 samples\n",
      "453/453 [==============================] - 0s 113us/sample - loss: 2.1980e-04 - accuracy: 0.0000e+00\n",
      "Train on 453 samples\n",
      "453/453 [==============================] - 0s 119us/sample - loss: 4.3275e-04 - accuracy: 0.0000e+00\n",
      "Train on 453 samples\n",
      "453/453 [==============================] - 0s 119us/sample - loss: 3.4968e-04 - accuracy: 0.0000e+00\n"
     ]
    }
   ],
   "source": [
    "# RUN IF YOU ARE TRAINING A NEW MODEL\n",
    "\n",
    "# data_input, data = train_model('ADM', numInp, False)\n",
    "\n",
    "for stock in stocks:\n",
    "    train_model(stock, numInp, True)"
   ]
  },
  {
   "cell_type": "code",
   "execution_count": 230,
   "metadata": {},
   "outputs": [],
   "source": [
    "# saving model\n",
    "\n",
    "model.save(\"stock_model.h5\")"
   ]
  },
  {
   "cell_type": "code",
   "execution_count": 9,
   "metadata": {
    "scrolled": false
   },
   "outputs": [],
   "source": [
    "# loading model\n",
    "\n",
    "model = tf.keras.models.load_model('stock_model.h5')"
   ]
  },
  {
   "cell_type": "code",
   "execution_count": 14,
   "metadata": {},
   "outputs": [],
   "source": [
    "data_input, data = train_model('V', 50, False)"
   ]
  },
  {
   "cell_type": "code",
   "execution_count": 16,
   "metadata": {},
   "outputs": [
    {
     "data": {
      "image/png": "[encoded data removed]",
      "text/plain": [
       "<Figure size 1152x432 with 1 Axes>"
      ]
     },
     "metadata": {
      "needs_background": "light"
     },
     "output_type": "display_data"
    }
   ],
   "source": [
    "predict(225, 150, data_input, data)"
   ]
  },
  {
   "cell_type": "code",
   "execution_count": null,
   "metadata": {},
   "outputs": [],
   "source": []
  }
 ],
 "metadata": {
  "kernelspec": {
   "display_name": "Python 3",
   "language": "python",
   "name": "python3"
  },
  "language_info": {
   "codemirror_mode": {
    "name": "ipython",
    "version": 3
   },
   "file_extension": ".py",
   "mimetype": "text/x-python",
   "name": "python",
   "nbconvert_exporter": "python",
   "pygments_lexer": "ipython3",
   "version": "3.7.4"
  }
 },
 "nbformat": 4,
 "nbformat_minor": 2
}
