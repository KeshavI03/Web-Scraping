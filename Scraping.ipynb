{
 "cells": [
  {
   "cell_type": "code",
   "execution_count": 33,
   "metadata": {},
   "outputs": [],
   "source": [
    "import urllib3\n",
    "import certifi\n",
    "from bs4 import BeautifulSoup\n",
    "from textblob import TextBlob"
   ]
  },
  {
   "cell_type": "code",
   "execution_count": 47,
   "metadata": {},
   "outputs": [],
   "source": [
    "import urllib3\n",
    "http = urllib3.PoolManager(\n",
    "    cert_reqs='CERT_REQUIRED',\n",
    "    ca_certs=certifi.where())\n",
    "\n",
    "stock_name = 'AMZN'\n",
    "\n",
    "r = http.request('GET', 'https://stocktwits.com/symbol/' + stock_name)\n",
    "r2 = http.request('Get', 'https://twitter.com/search?q=%24' + stock_name + '%23stocks')"
   ]
  },
  {
   "cell_type": "code",
   "execution_count": 48,
   "metadata": {},
   "outputs": [],
   "source": [
    "#print(r.data.decode('utf-8'))"
   ]
  },
  {
   "cell_type": "code",
   "execution_count": 49,
   "metadata": {},
   "outputs": [],
   "source": [
    "soup = BeautifulSoup(r.data, 'html.parser')"
   ]
  },
  {
   "cell_type": "code",
   "execution_count": 50,
   "metadata": {},
   "outputs": [],
   "source": [
    "comment_string = soup.find_all(\"div\", {\"class\": \"st_VwV73eM st_DmhifDD\"})"
   ]
  },
  {
   "cell_type": "code",
   "execution_count": 51,
   "metadata": {},
   "outputs": [],
   "source": [
    "print_string = soup.find_all(\"span\", {\"class\": \"st_3lrv4Jo st_8u0ePN3 st_2oUi2Vb st_31YdEUQ st_8u0ePN3 st_2mehCkH st_3kXJm4P\"})"
   ]
  },
  {
   "cell_type": "code",
   "execution_count": 52,
   "metadata": {},
   "outputs": [
    {
     "name": "stdout",
     "output_type": "stream",
     "text": [
      "1758.00\n"
     ]
    }
   ],
   "source": [
    "numArrows = 0\n",
    "pricePos = 0;\n",
    "for i in range (0,len(str(print_string[0]))):\n",
    "    if str(print_string[0])[i] == '>':\n",
    "        numArrows+=1\n",
    "    if numArrows > 2:\n",
    "        pricePos = i\n",
    "        break\n",
    "        \n",
    "        \n",
    "for i in range(pricePos,len(str(print_string[0]))):\n",
    "    if str(print_string[0])[i] == '<':\n",
    "        pos = i\n",
    "        break\n",
    "\n",
    "print(str(print_string[0])[pricePos+1:pos])"
   ]
  },
  {
   "cell_type": "code",
   "execution_count": 53,
   "metadata": {},
   "outputs": [
    {
     "name": "stdout",
     "output_type": "stream",
     "text": [
      "0.84\n"
     ]
    }
   ],
   "source": [
    "sentPos = soup.get_text().find(\"sentimentChange\")+17\n",
    "for i in range(sentPos, sentPos+7):\n",
    "    if str(soup.get_text()[i]) == ',':\n",
    "        sentNumPos = i\n",
    "        break\n",
    "        \n",
    "print(str(soup.get_text()[sentPos:i]))"
   ]
  },
  {
   "cell_type": "code",
   "execution_count": 54,
   "metadata": {},
   "outputs": [],
   "source": [
    "soup = BeautifulSoup(r2.data, 'html.parser')"
   ]
  },
  {
   "cell_type": "code",
   "execution_count": 55,
   "metadata": {},
   "outputs": [],
   "source": [
    "tweet_text = soup.get_text()"
   ]
  },
  {
   "cell_type": "code",
   "execution_count": 56,
   "metadata": {},
   "outputs": [],
   "source": [
    "tweets = []\n",
    "\n",
    "parsePos = 0\n",
    "endParsePos = 0;\n",
    "\n",
    "for i in range(0, len(tweet_text)-32):\n",
    "    if tweet_text[i:i+32] == 'Copy link to Tweet\\n\\n\\nEmbed Tweet':\n",
    "        parsePos = i+32;\n",
    "        for j in range(i+32, len(tweet_text)-5):\n",
    "            if tweet_text[j:j+5] == 'Reply':\n",
    "                endParsePos = j\n",
    "                tweets.append(tweet_text[parsePos:endParsePos])\n",
    "                i = j\n",
    "                break\n",
    "del tweets[-1]"
   ]
  },
  {
   "cell_type": "code",
   "execution_count": 57,
   "metadata": {},
   "outputs": [],
   "source": [
    "for i in range(0,len(tweets)):\n",
    "    tweets[i] = tweets[i].translate({ord('\\n'): None})\n",
    "    tweets[i] = tweets[i][0:len(tweets[i])-24]"
   ]
  },
  {
   "cell_type": "code",
   "execution_count": 58,
   "metadata": {},
   "outputs": [
    {
     "name": "stderr",
     "output_type": "stream",
     "text": [
      "[nltk_data] Downloading package averaged_perceptron_tagger to\n",
      "[nltk_data]     C:\\Users\\deark\\AppData\\Roaming\\nltk_data...\n",
      "[nltk_data]   Package averaged_perceptron_tagger is already up-to-\n",
      "[nltk_data]       date!\n",
      "[nltk_data] Downloading package brown to\n",
      "[nltk_data]     C:\\Users\\deark\\AppData\\Roaming\\nltk_data...\n",
      "[nltk_data]   Package brown is already up-to-date!\n"
     ]
    },
    {
     "data": {
      "text/plain": [
       "True"
      ]
     },
     "execution_count": 58,
     "metadata": {},
     "output_type": "execute_result"
    }
   ],
   "source": [
    "import nltk\n",
    "nltk.download('averaged_perceptron_tagger')\n",
    "nltk.download('brown')"
   ]
  },
  {
   "cell_type": "code",
   "execution_count": 59,
   "metadata": {},
   "outputs": [
    {
     "name": "stdout",
     "output_type": "stream",
     "text": [
      " 3 Month Giveaway ($447 Value!)\n",
      "Score: 0.0\n",
      "\n",
      "We're giving away 3 months of our service!To Enter!\n",
      "Score: 0.0\n",
      "\n",
      "Follow @EliteOptions2 Retweet and Like this post Tag 2 Friends----#GIVEAWAY #GIVEAWAYS #optionstrading #options #stocks #trading$SPY $AAPL $TSLA $GOOGL $AMZN $ZM $SPX $TDOCpic.twitter.com/Pp3kmsEgf898 repl\n",
      "Score: -0.6\n",
      "\n",
      "-----------------------------\n",
      "$AYTU THIS IS HUGE!!!!\n",
      "Score: 0.9765625000000001\n",
      "\n",
      "$AMZN $AYTU Has the ONLY AT-HOME TEST!!!\n",
      "Score: 0.0\n",
      "\n",
      "$CODX $HTBX $TNXP $BTC $IBIO $TRIL $NOVN $BKYI $CNDT $ENBL $COCP $PCTL $CLDR $ALT $AIM $AHPI $APT $TLSA $ATHE $CORV $SPEX $OAS $SPOM $TTOO $BIOC $INO $OPK #stockshttps://www.cnbc.com/2020/03/11/amazon-care-gates-foundation-may-deliver-coronavirus-tests-in-seattle.html …\n",
      "Score: 0.6\n",
      "\n",
      "-----------------------------\n",
      "$AMZN $NKE $TSLA $SHOP $BAC $BABA Puts all locked in, dead cat bounces make for nice buying opportunities #stocks pic.twitter.com/dxSwFlyzr90\n",
      "Score: 0.19999999999999998\n",
      "\n",
      "-----------------------------\n",
      "Thinking of #stocks that will do well during the #CoronavirusRecession.People staying home will help companies like $NFLX $AMZN $UPS $FDX $EA $MSFT $DIS $FB $GOOG\n",
      "Score: 0.0\n",
      "\n",
      "-----------------------------\n",
      "3 Stocks I'm Buying If the Coronavirus Selloff Gets Worse @themotleyfool #stocks $AMZN $FB $MELI $BABA $JDhttps://www.fool.com/investing/2020/02/25/3-stocks-im-buying-if-the-coronavirus-selloff-gets.aspx …0\n",
      "Score: -0.4\n",
      "\n",
      "-----------------------------\n",
      "March 11, 2020: the Dow Jones Industrial Average enters a bear market for the first time in 11 years.March 13, 2020: just kidding, everything's great now$SPY $QQQ $DJIA $DIA #stockmarket #investing #finance #stocks #gold #silver $SLV $TWTR $GLD $FB $TLT $AMZN $AMD #economy\n",
      "Score: -0.3\n",
      "\n",
      "-----------------------------\n",
      "Cmon now!!\n",
      "Score: 0.0\n",
      "\n",
      "#stocks $AMZN pic.twitter.com/HfrAO8jpCt0\n",
      "Score: 0.0\n",
      "\n",
      "-----------------------------\n",
      "Circuit breaker levels:-7%: shut trading for 15 mins-13%: shut trading for 15 mins-20%: close exchange$SPX $ES_F $SPY $QQQ $DJIA $DIA #stockmarket #investing #finance #stocks #gold #silver $SLV $TWTR $GLD $FB $TLT $AMZN $AAPL $TSLA $NFLX $INTC $AMD #economy2\n",
      "Score: 0.0\n",
      "\n",
      "-----------------------------\n",
      "$djia $amzn #coronarvirus #stocks Dr. J, Spike, Jake & friends streams live Fridays at 6:30.\n",
      "Score: 0.13636363636363635\n",
      "\n",
      "Best finance show on Youtube.\n",
      "Score: 1.0\n",
      "\n",
      "Join us for live chat.0\n",
      "Score: 0.13636363636363635\n",
      "\n",
      "-----------------------------\n",
      "Why eBay, Amazon, and MercadoLibre Stocks Rebounded Today @themotleyfool #stocks $AMZN $EBAY $MELI $MSFThttps://www.fool.com/investing/2020/03/13/why-ebay-amazon-and-mercadolibre-stocks-rebounded.aspx …0\n",
      "Score: 0.0\n",
      "\n",
      "-----------------------------\n",
      "(3/8)Less indebted U.S. #Stocks Near 52-Weeks Low by Net Debt to EBITDA:1.\n",
      "Score: 0.03333333333333333\n",
      "\n",
      "ALPHABET $GOOGL: -2.2x2.\n",
      "Score: 0.0\n",
      "\n",
      "FACEBOOK $FB: -1.8x3.\n",
      "Score: 0.0\n",
      "\n",
      "SALESFORCE $CRM: -1.8x4.\n",
      "Score: 0.0\n",
      "\n",
      "AMAZON $AMZN: -0.8x5.\n",
      "Score: 0.0\n",
      "\n",
      "CISCO $CSCO: -0.6xpic.twitter.com/HGS2zUDaU\n",
      "Score: 0.0\n",
      "\n",
      "-----------------------------\n",
      "Silver is having an \"oy vay\" moment.\n",
      "Score: 0.0\n",
      "\n",
      "Could be a good buying opportunity when the bleeding slows down$SPY $QQQ $DJIA $DIA #stockmarket #investing #finance #stocks #gold #silver $SLV $TWTR $GLD $FB $TLT $AMZN $AAPL $TSLA $NFLX $INTC $AMD #economy0\n",
      "Score: 0.09999999999999998\n",
      "\n",
      "-----------------------------\n",
      "How Dominion Energy Is Setting Up for Success in a #Renewable Future @themotleyfool #stocks $D $AMZN $FBhttps://www.fool.com/investing/2020/03/06/how-dominion-energy-is-setting-up-for-success-in-a.aspx …0\n",
      "Score: 0.15\n",
      "\n",
      "-----------------------------\n",
      "#Stocks visible on published graphs:$ABT $GOOGL $AMZN $T $CVX $CSCO $KO $CMCSA $XOM $FB $HD $INTC $JNJ $MA $MCD $MRK $NKE $PEP $PFE $PG $CRM $VZ $V $WMT $DISFeel free to subscribe, like and retweet to support our work 0\n",
      "Score: 0.4\n",
      "\n",
      "-----------------------------\n",
      "-> #Amazon Offers to Deliver #Coronavirus Test Kits in Seattle Area #stocks $AMZN #coronavirusapocalypse #testkitshttps://www.fool.com/investing/2020/03/12/amazon-offers-to-deliver-coronavirus-test-kits-in.aspx …0\n",
      "Score: 0.1\n",
      "\n",
      "-----------------------------\n",
      "Scan Option Block Trades for Elevated Implied Volatility can help you find trade ideas in $AMZN and $BYND for example.\n",
      "Score: 0.0\n",
      "\n",
      "https://youtu.be/hnv7uBjjX48?utm_campaign=meetedgar&utm_medium=social&utm_source=meetedgar.com … #trading #investing #Stocks0\n",
      "Score: 0.0\n",
      "\n",
      "-----------------------------\n",
      "Stock Alert For AMZN - http://Amazon.com , Inc.Alert Type: Daily Percent Price ChangeValue Hit: -5.16%#dividend #stocks $AMZNVisit Custom Stock Alerts https://customstockalerts.com 0\n",
      "Score: 0.0\n",
      "\n",
      "-----------------------------\n",
      "Call Sweeps Over 500K (a/o12:38pmEST): $CRM $SPY $AAPL $AMZN  #StayGreen #BlackBoxStocks #stocks #stockstowatch #trading #DayTrading #WallStreet #StockMarket #moneypic.twitter.com/fEV07THnuS\n",
      "Score: 0.0\n",
      "\n",
      "-----------------------------\n",
      "(2/8)Best managed U.S. #Stocks Near 52-Weeks Low by EBITDA RoIC:1.\n",
      "Score: 0.05\n",
      "\n",
      "MASTERCARD $MA: 110.9%2.\n",
      "Score: 0.0\n",
      "\n",
      "NIKE $NKE: 46.6%3.\n",
      "Score: 0.0\n",
      "\n",
      "CISCO $CSCO: 44.9%4.\n",
      "Score: 0.0\n",
      "\n",
      "AMAZON $AMZN: 39.6%5.\n",
      "Score: 0.0\n",
      "\n",
      "FACEBOOK $FB: 37.9%pic.twitter.com/TgqdQdfRD\n",
      "Score: 0.0\n",
      "\n",
      "-----------------------------\n",
      "\n",
      "\n",
      "\n",
      "Overall sentiment -1.7999999999999998\n"
     ]
    }
   ],
   "source": [
    "polarityShift = 0;\n",
    "negative_keywords = ['bear','loss','losing','low','hit','tumble','fell','fall','hurt','recession','worse','sell']\n",
    "positive_keywords = ['bull','earn','gain','high','great','diversification','well','buy']\n",
    "\n",
    "total_sentiment = 0;\n",
    "\n",
    "for tweet in tweets:\n",
    "    blob = TextBlob(tweet)\n",
    "    for sentence in blob.sentences:\n",
    "        polarityShift = 0\n",
    "        \n",
    "        for word in negative_keywords:\n",
    "            if sentence.find(word.lower())!= -1:\n",
    "                polarityShift-=.3\n",
    "                \n",
    "        for word in negative_keywords:\n",
    "            if sentence.find(word)!= -1:\n",
    "                polarityShift-=.3\n",
    "                \n",
    "        total_sentiment+=polarityShift;\n",
    "        \n",
    "        print(sentence)\n",
    "        print(\"Score: \" + str(sentence.sentiment.polarity + polarityShift))\n",
    "        print()\n",
    "        \n",
    "    print(\"-----------------------------\")\n",
    "\n",
    "\n",
    "print('\\n\\n')\n",
    "print('Overall sentiment ' + str(total_sentiment))"
   ]
  },
  {
   "cell_type": "code",
   "execution_count": null,
   "metadata": {},
   "outputs": [],
   "source": []
  },
  {
   "cell_type": "code",
   "execution_count": null,
   "metadata": {},
   "outputs": [],
   "source": []
  }
 ],
 "metadata": {
  "kernelspec": {
   "display_name": "Python 3",
   "language": "python",
   "name": "python3"
  },
  "language_info": {
   "codemirror_mode": {
    "name": "ipython",
    "version": 3
   },
   "file_extension": ".py",
   "mimetype": "text/x-python",
   "name": "python",
   "nbconvert_exporter": "python",
   "pygments_lexer": "ipython3",
   "version": "3.7.4"
  }
 },
 "nbformat": 4,
 "nbformat_minor": 2
}
